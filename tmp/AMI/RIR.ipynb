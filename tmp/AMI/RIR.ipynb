{
 "cells": [
  {
   "cell_type": "code",
   "execution_count": 2,
   "id": "602720df-f666-4f00-bce1-0a621c7dc60d",
   "metadata": {},
   "outputs": [],
   "source": [
    "import numpy as np"
   ]
  },
  {
   "cell_type": "code",
   "execution_count": 3,
   "id": "52ca7df6-c1db-4aaf-8d29-9c6412d2afcb",
   "metadata": {},
   "outputs": [],
   "source": [
    "geo_mic = np.array(\n",
    "[[+0.1000, +0.0000, +0.0000],\n",
    " [+0.0707, +0.0707, +0.0000],\n",
    " [+0.0000, +0.1000, +0.0000],\n",
    " [-0.0707, +0.0707, +0.0000],\n",
    " [-0.1000, +0.0000, +0.0000],\n",
    " [-0.0707, -0.0707, +0.0000],\n",
    " [-0.0000, -0.1000, +0.0000],\n",
    " [+0.0707, -0.0707, +0.0000]\n",
    "])\n",
    "\n",
    "pos_src = [5,5,2]"
   ]
  },
  {
   "cell_type": "code",
   "execution_count": 8,
   "id": "d35bc38d-4c8c-4635-be12-9b6c54d4ae32",
   "metadata": {},
   "outputs": [
    {
     "name": "stdout",
     "output_type": "stream",
     "text": [
      "[[2.6    2.5    1.    ]\n",
      " [2.5707 2.5707 1.    ]\n",
      " [2.5    2.6    1.    ]\n",
      " [2.4293 2.5707 1.    ]\n",
      " [2.4    2.5    1.    ]\n",
      " [2.4293 2.4293 1.    ]\n",
      " [2.5    2.4    1.    ]\n",
      " [2.5707 2.4293 1.    ]]\n"
     ]
    }
   ],
   "source": [
    "pos_rcv = [pos_src[0]/2, pos_src[0]/2, 1] + geo_mic\n",
    "\n",
    "print(pos_rcv)"
   ]
  },
  {
   "cell_type": "code",
   "execution_count": 26,
   "id": "494da03a-d92e-47d3-9d12-d95b6f6d2187",
   "metadata": {},
   "outputs": [
    {
     "data": {
      "text/plain": [
       "0.5963285977825954"
      ]
     },
     "execution_count": 26,
     "metadata": {},
     "output_type": "execute_result"
    }
   ],
   "source": [
    "np.random.uniform(0.5,0.8)"
   ]
  },
  {
   "cell_type": "code",
   "execution_count": 27,
   "id": "c9c881e7-0436-4fac-b24a-d5d4621b08ce",
   "metadata": {},
   "outputs": [
    {
     "ename": "TypeError",
     "evalue": "'module' object is not callable",
     "output_type": "error",
     "traceback": [
      "\u001b[0;31m---------------------------------------------------------------------------\u001b[0m",
      "\u001b[0;31mTypeError\u001b[0m                                 Traceback (most recent call last)",
      "Cell \u001b[0;32mIn[27], line 1\u001b[0m\n\u001b[0;32m----> 1\u001b[0m \u001b[43mnp\u001b[49m\u001b[38;5;241;43m.\u001b[39;49m\u001b[43mrandom\u001b[49m\u001b[43m(\u001b[49m\u001b[38;5;241;43m3\u001b[39;49m\u001b[43m)\u001b[49m\n",
      "\u001b[0;31mTypeError\u001b[0m: 'module' object is not callable"
     ]
    }
   ],
   "source": [
    "np.random(3)"
   ]
  },
  {
   "cell_type": "code",
   "execution_count": 30,
   "id": "29a21eef-b050-4b30-8da1-67170280922b",
   "metadata": {},
   "outputs": [
    {
     "data": {
      "text/plain": [
       "1"
      ]
     },
     "execution_count": 30,
     "metadata": {},
     "output_type": "execute_result"
    }
   ],
   "source": [
    "xxx = [1,2,3]\n",
    "np.random.choice(xxx)"
   ]
  },
  {
   "cell_type": "code",
   "execution_count": null,
   "id": "771d4d91-1d10-4307-8bb7-b6cbdaa9118f",
   "metadata": {},
   "outputs": [],
   "source": []
  }
 ],
 "metadata": {
  "kernelspec": {
   "display_name": "Python 3 (ipykernel)",
   "language": "python",
   "name": "python3"
  },
  "language_info": {
   "codemirror_mode": {
    "name": "ipython",
    "version": 3
   },
   "file_extension": ".py",
   "mimetype": "text/x-python",
   "name": "python",
   "nbconvert_exporter": "python",
   "pygments_lexer": "ipython3",
   "version": "3.10.14"
  }
 },
 "nbformat": 4,
 "nbformat_minor": 5
}
