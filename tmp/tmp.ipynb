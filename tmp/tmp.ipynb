{
 "cells": [
  {
   "cell_type": "code",
   "execution_count": 3,
   "id": "494154fc-e985-45b6-8059-5fef8553c79f",
   "metadata": {},
   "outputs": [],
   "source": [
    "import numpy as np\n",
    "import random"
   ]
  },
  {
   "cell_type": "code",
   "execution_count": 14,
   "id": "1595e639-65d6-4c4c-a616-c6143602889a",
   "metadata": {},
   "outputs": [
    {
     "name": "stdout",
     "output_type": "stream",
     "text": [
      "[  0  15  30  45  60  75  90 105 120 135 150 165 180 195 210 225 240 255\n",
      " 270 285 300 315 330 345]\n",
      "[285  75 135 270 240  90 345 120  45 315]\n"
     ]
    }
   ],
   "source": [
    "pool = np.arange(0,360,15)\n",
    "print(pool)\n",
    "\n",
    "sample = np.random.choice(pool, 10,replace=False)\n",
    "print(sample)"
   ]
  },
  {
   "cell_type": "code",
   "execution_count": null,
   "id": "8de7c8a3-8e45-4ff2-bfaf-633c7b8a805c",
   "metadata": {},
   "outputs": [],
   "source": [
    "mic = np.zeros(7,3);\n",
    "mic(1,:) = [+0.00 0.0 0.0];\n",
    "\n",
    "for i =2:7\n",
    "i_ = i-2;\n",
    "   mic(i,:) = 0.043.*[np.sin(i_*pi/3), np.cos(i_*pi/3), 0];\n",
    "end\n"
   ]
  }
 ],
 "metadata": {
  "kernelspec": {
   "display_name": "Python 3 (ipykernel)",
   "language": "python",
   "name": "python3"
  },
  "language_info": {
   "codemirror_mode": {
    "name": "ipython",
    "version": 3
   },
   "file_extension": ".py",
   "mimetype": "text/x-python",
   "name": "python",
   "nbconvert_exporter": "python",
   "pygments_lexer": "ipython3",
   "version": "3.10.14"
  }
 },
 "nbformat": 4,
 "nbformat_minor": 5
}
