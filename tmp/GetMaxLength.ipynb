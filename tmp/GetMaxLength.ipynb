{
 "cells": [
  {
   "cell_type": "code",
   "execution_count": 7,
   "id": "b9777109-f2e7-410c-9e14-6bfccdd43b84",
   "metadata": {},
   "outputs": [],
   "source": [
    "import torch\n",
    "import os,glob\n",
    "from moviepy.editor import *"
   ]
  },
  {
   "cell_type": "code",
   "execution_count": 8,
   "id": "5401e1e0-b6d9-42ce-be6a-e2777daa8a35",
   "metadata": {},
   "outputs": [],
   "source": [
    "dir_LRS_train = \"/home/data/kbh/LRS3/trainval\"\n",
    "dir_LRS_test = \"/home/data/kbh/LRS3/test\"\n",
    "dir_crop_train = \"/home/data/kbh/lip/LRS3/trainval\"\n",
    "dir_crop_test = \"/home/data/kbh/lip/LRS3/test\""
   ]
  },
  {
   "cell_type": "markdown",
   "id": "2f864f14-d07d-421c-8a2e-889446e994cc",
   "metadata": {},
   "source": [
    "# Get FPS"
   ]
  },
  {
   "cell_type": "code",
   "execution_count": 12,
   "id": "85c8216d-aae9-4536-9632-09054a31f25f",
   "metadata": {},
   "outputs": [
    {
     "name": "stdout",
     "output_type": "stream",
     "text": [
      "25.0\n",
      "25.0\n",
      "25.0\n",
      "25.0\n",
      "25.0\n",
      "25.0\n",
      "25.0\n",
      "25.0\n",
      "25.0\n",
      "25.0\n",
      "25.0\n",
      "25.0\n",
      "25.0\n",
      "25.0\n",
      "25.0\n",
      "25.0\n",
      "25.0\n",
      "25.0\n",
      "25.0\n",
      "25.0\n",
      "25.0\n",
      "25.0\n"
     ]
    }
   ],
   "source": [
    "list_LRS_train = glob.glob(os.path.join(dir_LRS_train,\"**\",\"*.mp4\"),recursive=True)\n",
    "\n",
    "idx = 0\n",
    "for path in list_LRS_train : \n",
    "    video = VideoFileClip(path)\n",
    "    print(video.fps)\n",
    "    \n",
    "    idx += 1\n",
    "    if idx > 10:\n",
    "        break\n",
    "        \n",
    "list_LRS_test = glob.glob(os.path.join(dir_LRS_test,\"**\",\"*.mp4\"),recursive=True)\n",
    "\n",
    "idx = 0\n",
    "for path in list_LRS_test : \n",
    "    video = VideoFileClip(path)\n",
    "    print(video.fps)\n",
    "    \n",
    "    idx += 1\n",
    "    if idx > 10:\n",
    "        break    "
   ]
  },
  {
   "cell_type": "markdown",
   "id": "0b9cca85-92f4-4bb1-ace0-df3c91849968",
   "metadata": {},
   "source": [
    "=> FPS : 25"
   ]
  },
  {
   "cell_type": "markdown",
   "id": "8a9dc5e2-fbf5-484c-9277-f03e36891d10",
   "metadata": {},
   "source": [
    "# Get Max Frame"
   ]
  },
  {
   "cell_type": "code",
   "execution_count": 18,
   "id": "be9a2b0e-904f-4c29-a2f7-aaf065108037",
   "metadata": {},
   "outputs": [
    {
     "name": "stdout",
     "output_type": "stream",
     "text": [
      "train : max 157 | min 14 | avg 86.67594358797962\n"
     ]
    }
   ],
   "source": [
    "list_crop_train = glob.glob(os.path.join(dir_crop_train,\"**\",\"*.pt\"),recursive=True)\n",
    "\n",
    "max_val = 0\n",
    "min_val = 5000\n",
    "avg_val = 0\n",
    "\n",
    "idx = 0\n",
    "for path in list_crop_train :\n",
    "    x = torch.load(path)()\n",
    "    val = x.shape[0]\n",
    "    if val > max_val : \n",
    "        max_val = val\n",
    "        \n",
    "    if val < min_val :\n",
    "        min_val = val\n",
    "        \n",
    "    avg_val += val\n",
    "    \n",
    "avg_val = avg_val/len(list_crop_train)\n",
    "print(\"train : max {} | min {} | avg {}\".format(max_val,min_val, avg_val))"
   ]
  },
  {
   "cell_type": "code",
   "execution_count": 21,
   "id": "7306b387-b129-43d6-9dc6-dcae96321d8b",
   "metadata": {},
   "outputs": [
    {
     "name": "stdout",
     "output_type": "stream",
     "text": [
      "test : max 157 | min 16 | avg 60.05509641873278\n"
     ]
    }
   ],
   "source": [
    "list_crop_test = glob.glob(os.path.join(dir_crop_test,\"**\",\"*.pt\"),recursive=True)\n",
    "\n",
    "max_val = 0\n",
    "min_val = 5000\n",
    "avg_val = 0\n",
    "\n",
    "idx = 0\n",
    "for path in list_crop_test :\n",
    "    x = torch.load(path)()\n",
    "    val = x.shape[0]\n",
    "    if val > max_val : \n",
    "        max_val = val\n",
    "        \n",
    "    if val < min_val :\n",
    "        min_val = val\n",
    "        \n",
    "    avg_val += val\n",
    "    \n",
    "avg_val = avg_val/len(list_crop_test)\n",
    "print(\"test : max {} | min {} | avg {}\".format(max_val,min_val, avg_val))"
   ]
  },
  {
   "cell_type": "code",
   "execution_count": null,
   "id": "03daf442-97bf-4323-ab5d-5f0492c9c5e8",
   "metadata": {},
   "outputs": [],
   "source": []
  }
 ],
 "metadata": {
  "kernelspec": {
   "display_name": "Python 3 (ipykernel)",
   "language": "python",
   "name": "python3"
  },
  "language_info": {
   "codemirror_mode": {
    "name": "ipython",
    "version": 3
   },
   "file_extension": ".py",
   "mimetype": "text/x-python",
   "name": "python",
   "nbconvert_exporter": "python",
   "pygments_lexer": "ipython3",
   "version": "3.9.12"
  }
 },
 "nbformat": 4,
 "nbformat_minor": 5
}
